{
 "cells": [
  {
   "cell_type": "code",
   "execution_count": 1,
   "id": "c7389056",
   "metadata": {},
   "outputs": [],
   "source": [
    "#single chain or single cahin in mixture with metaD\n",
    "\n",
    "import pandas as pd\n",
    "import numpy as np\n",
    "import json\n",
    "import csv\n"
   ]
  },
  {
   "cell_type": "code",
   "execution_count": 2,
   "id": "59266b4b",
   "metadata": {},
   "outputs": [],
   "source": [
    "#1_rearrange\n",
    "#load file\n",
    "fread1 = open('C:\\\\Users\\\\Think\\\\Documents\\\\polymer_python_research_code\\\\py_metaD_histogram\\\\polycvs.colvars.traj', 'r')\n",
    "read1 = fread1.readlines()\n",
    "#strip, split and save data\n",
    "read2 = []\n",
    "for j in read1:\n",
    "    first = j.strip('/n')\n",
    "    second = first.split()\n",
    "    read2.append(second)\n",
    "\n",
    "#delete title in dump file\n",
    "dump = []\n",
    "for j in range(0, len(read2), 1):\n",
    "    if str(read2[j][0]) != '#':\n",
    "        dump.append(read2[j])\n",
    "        \n",
    "#一段时间内的所有z值\n",
    "mintimestep = 900000000 #开始统计的timestep\n",
    "maxtimestep = 1000000000 #结束统计的timestep\n",
    "zdist = []\n",
    "time = []\n",
    "for j in range(len(dump)-1,-1,-1):\n",
    "    if mintimestep <= int(dump[j][0]) <= maxtimestep:\n",
    "        zdist.append(int(float(dump[j][1])))\n",
    "        time.append(int(dump[j][0]))\n",
    "    if int(dump[j][0]) < mintimestep:\n",
    "        break\n",
    "\n",
    "#write into a new file\n",
    "fwrite1 = open('rearrange.txt', 'w')\n",
    "a = 'timestep zdirect' + '\\n'\n",
    "fwrite1.write(a)\n",
    "for j in range(0, len(time), 1):\n",
    "    s = str(time[j]).replace('[','').replace(']','')\n",
    "    s = s.replace(\"'\",'').replace(',','') + ' '\n",
    "    d = str(zdist[j]).replace('[','').replace(']','')\n",
    "    d = d.replace(\"'\",'').replace(',','') + '\\n'\n",
    "    fwrite1.write(s)\n",
    "    fwrite1.write(d)\n",
    "fwrite1.close()\n",
    "\n",
    "\n",
    "#pandas统计个数\n",
    "#load files\n",
    "df = pd.read_table('rearrange.txt', delim_whitespace=True)\n",
    "\n",
    "#统计每个位置出现的次数\n",
    "cv = pd.DataFrame()\n",
    "cv['times'] = df['zdirect'].value_counts(sort=False)\n",
    "cv['times'].to_csv('result_t.csv', sep=' ', header=None, index=None)\n",
    "cv['z'] = df['zdirect'].unique()\n",
    "cv['z'].to_csv('result_z.csv', sep=' ', header=None, index=None)\n",
    "\n"
   ]
  },
  {
   "cell_type": "code",
   "execution_count": 3,
   "id": "8ccbe029",
   "metadata": {},
   "outputs": [
    {
     "data": {
      "text/plain": [
       "'\\n#统计各个z出现的次数\\nresult = {}\\nfor i in set(zdist):\\n    result[i] = zdist.count(i)'"
      ]
     },
     "execution_count": 3,
     "metadata": {},
     "output_type": "execute_result"
    }
   ],
   "source": [
    "\"\"\"\n",
    "#统计各个z出现的次数\n",
    "result = {}\n",
    "for i in set(zdist):\n",
    "    result[i] = zdist.count(i)\"\"\"  "
   ]
  },
  {
   "cell_type": "code",
   "execution_count": null,
   "id": "18228fed",
   "metadata": {},
   "outputs": [],
   "source": [
    "\n"
   ]
  }
 ],
 "metadata": {
  "kernelspec": {
   "display_name": "Python 3 (ipykernel)",
   "language": "python",
   "name": "python3"
  },
  "language_info": {
   "codemirror_mode": {
    "name": "ipython",
    "version": 3
   },
   "file_extension": ".py",
   "mimetype": "text/x-python",
   "name": "python",
   "nbconvert_exporter": "python",
   "pygments_lexer": "ipython3",
   "version": "3.9.15"
  }
 },
 "nbformat": 4,
 "nbformat_minor": 5
}
