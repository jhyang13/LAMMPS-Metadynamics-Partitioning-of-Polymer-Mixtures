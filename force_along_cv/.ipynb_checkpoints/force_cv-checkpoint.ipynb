{
 "cells": [
  {
   "cell_type": "code",
   "execution_count": 15,
   "id": "c0b65189",
   "metadata": {},
   "outputs": [],
   "source": [
    "#single chain\n",
    "\n",
    "import pandas as pd\n",
    "import numpy as np\n"
   ]
  },
  {
   "cell_type": "code",
   "execution_count": 16,
   "id": "18ace714",
   "metadata": {},
   "outputs": [],
   "source": [
    "#rearrange\n",
    "#add chain number, time step\n",
    "#load file\n",
    "EPS = ['1.40']\n",
    "#REP = ['01', '02', '03', '04', '05']\n",
    "#REP = ['06', '07', '08', '09', '10']\n",
    "#REP = ['11', '12', '13', '14', '15']\n",
    "REP = ['01', '02', '03', '04', '05', '06', '07', '08', '09', '10']\n",
    "\n",
    "for z in EPS:\n",
    "    for y in REP:\n",
    "        fread1 = open('C:\\\\Users\\\\Think\\\\Documents\\\\polymer_python_research_code\\\\py_force\\\\comz_force_EPS'+z+'_REP'+y+'.txt', 'r')\n",
    "        read1 = fread1.readlines()\n",
    "        #strip, split and save data\n",
    "        read2 = []\n",
    "        for j in read1:\n",
    "            first = j.strip('/n')\n",
    "            second = first.split()\n",
    "            read2.append(second)\n",
    "\n",
    "        #创建Z\n",
    "        zdirect_np = np.linspace(-51, 50, 20)\n",
    "        zdirect = []\n",
    "        for i in zdirect_np:\n",
    "            zdirect.append(round(float(i),2))\n",
    "\n",
    "        #force延Z的方向\n",
    "        force = []\n",
    "        force_result = []\n",
    "        force_ave = 0\n",
    "        for i in range(0, len(zdirect), 1):\n",
    "            for j in range(1, len(read2), 1):\n",
    "                if float(read2[j][1]) < float(zdirect[i])+0.5 and float(read2[j][1]) >= float(zdirect[i])-0.5:\n",
    "                    force.append(float(read2[j][2]))            \n",
    "            if len(force) == 0:\n",
    "                force_result.append(0)\n",
    "                force = []\n",
    "            else:\n",
    "                force_ave = sum(force) / len(force)\n",
    "                force_result.append(float(force_ave))\n",
    "                force = []\n",
    "                \n",
    "        #write into a new file\n",
    "        fwrite1 = open('force_comz_re_EPS'+z+'_REP'+y+'.txt', 'w')\n",
    "        for j in range(0, len(force_result), 1):\n",
    "            s = str(zdirect[j]).replace('[','').replace(']','')\n",
    "            s = s.replace(\"'\",'').replace(',','') + ' '\n",
    "            d = str(force_result[j]).replace('[','').replace(']','')\n",
    "            d = d.replace(\"'\",'').replace(',','') + '\\n'\n",
    "            fwrite1.write(s)\n",
    "            fwrite1.write(d)\n",
    "        fwrite1.close()\n"
   ]
  },
  {
   "cell_type": "code",
   "execution_count": null,
   "id": "ca75d0b9",
   "metadata": {},
   "outputs": [],
   "source": []
  }
 ],
 "metadata": {
  "kernelspec": {
   "display_name": "Python 3 (ipykernel)",
   "language": "python",
   "name": "python3"
  },
  "language_info": {
   "codemirror_mode": {
    "name": "ipython",
    "version": 3
   },
   "file_extension": ".py",
   "mimetype": "text/x-python",
   "name": "python",
   "nbconvert_exporter": "python",
   "pygments_lexer": "ipython3",
   "version": "3.10.9"
  }
 },
 "nbformat": 4,
 "nbformat_minor": 5
}
